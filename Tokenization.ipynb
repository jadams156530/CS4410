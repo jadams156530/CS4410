{
  "nbformat": 4,
  "nbformat_minor": 0,
  "metadata": {
    "colab": {
      "provenance": [],
      "authorship_tag": "ABX9TyOk2l876oDV76ZoLg5YEdX6",
      "include_colab_link": true
    },
    "kernelspec": {
      "name": "python3",
      "display_name": "Python 3"
    },
    "language_info": {
      "name": "python"
    }
  },
  "cells": [
    {
      "cell_type": "markdown",
      "metadata": {
        "id": "view-in-github",
        "colab_type": "text"
      },
      "source": [
        "<a href=\"https://colab.research.google.com/github/jadams156530/CS4410/blob/main/Tokenization.ipynb\" target=\"_parent\"><img src=\"https://colab.research.google.com/assets/colab-badge.svg\" alt=\"Open In Colab\"/></a>"
      ]
    },
    {
      "cell_type": "code",
      "execution_count": 3,
      "metadata": {
        "colab": {
          "base_uri": "https://localhost:8080/"
        },
        "id": "h0bnPmPQdPsR",
        "outputId": "ffc2b760-6764-4010-e9a6-35a24b29779d"
      },
      "outputs": [
        {
          "output_type": "stream",
          "name": "stdout",
          "text": [
            "['This', 'text', 'will', 'be', 'broken', 'down', 'into', 'tokens', '.']\n"
          ]
        }
      ],
      "source": [
        "import spacy\n",
        "\n",
        "# Loading a language model (example)\n",
        "nlp = spacy.load(\"en_core_web_sm\")\n",
        "\n",
        "# Example text to be broken into tokens\n",
        "text = \"This text will be broken down into tokens.\"\n",
        "\n",
        "# Processing the text\n",
        "doc = nlp(text)\n",
        "\n",
        "# Getting the tokens\n",
        "tokens = [token.text for token in doc]\n",
        "\n",
        "print(tokens)\n"
      ]
    }
  ]
}