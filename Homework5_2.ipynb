{
  "nbformat": 4,
  "nbformat_minor": 0,
  "metadata": {
    "colab": {
      "provenance": [],
      "authorship_tag": "ABX9TyO4SyIqVeY4SZRBJZUOMoSC",
      "include_colab_link": true
    },
    "kernelspec": {
      "name": "python3",
      "display_name": "Python 3"
    },
    "language_info": {
      "name": "python"
    }
  },
  "cells": [
    {
      "cell_type": "markdown",
      "metadata": {
        "id": "view-in-github",
        "colab_type": "text"
      },
      "source": [
        "<a href=\"https://colab.research.google.com/github/jadams156530/CS4410/blob/main/Homework5_2.ipynb\" target=\"_parent\"><img src=\"https://colab.research.google.com/assets/colab-badge.svg\" alt=\"Open In Colab\"/></a>"
      ]
    },
    {
      "cell_type": "code",
      "execution_count": 1,
      "metadata": {
        "colab": {
          "base_uri": "https://localhost:8080/"
        },
        "id": "mpEwqlD9NlGZ",
        "outputId": "eb6a0544-bf57-4b8e-9f9d-a8b3bcc50097"
      },
      "outputs": [
        {
          "output_type": "stream",
          "name": "stdout",
          "text": [
            "Loading MNIST dataset...\n"
          ]
        },
        {
          "output_type": "stream",
          "name": "stderr",
          "text": [
            "/usr/local/lib/python3.10/dist-packages/sklearn/datasets/_openml.py:1022: FutureWarning: The default value of `parser` will change from `'liac-arff'` to `'auto'` in 1.4. You can set `parser='auto'` to silence this warning. Therefore, an `ImportError` will be raised from 1.4 if the dataset is dense and pandas is not installed. Note that the pandas parser may return different data types. See the Notes Section in fetch_openml's API doc for details.\n",
            "  warn(\n"
          ]
        },
        {
          "output_type": "stream",
          "name": "stdout",
          "text": [
            "\n",
            "Performing Logistic Regression without PCA...\n"
          ]
        },
        {
          "output_type": "stream",
          "name": "stderr",
          "text": [
            "/usr/local/lib/python3.10/dist-packages/sklearn/linear_model/_logistic.py:460: ConvergenceWarning: lbfgs failed to converge (status=1):\n",
            "STOP: TOTAL NO. of ITERATIONS REACHED LIMIT.\n",
            "\n",
            "Increase the number of iterations (max_iter) or scale the data as shown in:\n",
            "    https://scikit-learn.org/stable/modules/preprocessing.html\n",
            "Please also refer to the documentation for alternative solver options:\n",
            "    https://scikit-learn.org/stable/modules/linear_model.html#logistic-regression\n",
            "  n_iter_i = _check_optimize_result(\n"
          ]
        },
        {
          "output_type": "stream",
          "name": "stdout",
          "text": [
            "Accuracy without PCA: 0.9150\n",
            "Time without PCA: 31.39 seconds\n",
            "\n",
            "Applying PCA...\n",
            "Number of components after PCA: 330\n",
            "\n",
            "Performing Logistic Regression with PCA...\n",
            "Accuracy with PCA: 0.9216\n",
            "Time with PCA: 13.08 seconds\n",
            "\n",
            "Comparison:\n",
            "Accuracy improvement: 0.66%\n",
            "Time improvement: 58.32%\n"
          ]
        },
        {
          "output_type": "stream",
          "name": "stderr",
          "text": [
            "/usr/local/lib/python3.10/dist-packages/sklearn/linear_model/_logistic.py:460: ConvergenceWarning: lbfgs failed to converge (status=1):\n",
            "STOP: TOTAL NO. of ITERATIONS REACHED LIMIT.\n",
            "\n",
            "Increase the number of iterations (max_iter) or scale the data as shown in:\n",
            "    https://scikit-learn.org/stable/modules/preprocessing.html\n",
            "Please also refer to the documentation for alternative solver options:\n",
            "    https://scikit-learn.org/stable/modules/linear_model.html#logistic-regression\n",
            "  n_iter_i = _check_optimize_result(\n"
          ]
        }
      ],
      "source": [
        "import numpy as np\n",
        "from sklearn.datasets import fetch_openml\n",
        "from sklearn.model_selection import train_test_split\n",
        "from sklearn.preprocessing import StandardScaler\n",
        "from sklearn.decomposition import PCA\n",
        "from sklearn.linear_model import LogisticRegression\n",
        "from sklearn.metrics import accuracy_score\n",
        "import time\n",
        "\n",
        "# Loading MNIST dataset\n",
        "print(\"Loading MNIST dataset...\")\n",
        "mnist = fetch_openml('mnist_784', version=1, as_frame=False)\n",
        "X, y = mnist.data, mnist.target\n",
        "\n",
        "y = y.astype(int)\n",
        "\n",
        "# Splitting the data\n",
        "X_train, X_test, y_train, y_test = train_test_split(X, y, test_size=0.2, random_state=42)\n",
        "\n",
        "# Standardizing features\n",
        "scaler = StandardScaler()\n",
        "X_train_scaled = scaler.fit_transform(X_train)\n",
        "X_test_scaled = scaler.transform(X_test)\n",
        "\n",
        "# Logistic Regression without PCA\n",
        "print(\"\\nPerforming Logistic Regression without PCA...\")\n",
        "start_time = time.time()\n",
        "logisticRegr = LogisticRegression(solver='lbfgs', max_iter=100)\n",
        "logisticRegr.fit(X_train_scaled, y_train)\n",
        "y_pred = logisticRegr.predict(X_test_scaled)\n",
        "accuracy_without_pca = accuracy_score(y_test, y_pred)\n",
        "time_without_pca = time.time() - start_time\n",
        "\n",
        "print(f\"Accuracy without PCA: {accuracy_without_pca:.4f}\")\n",
        "print(f\"Time without PCA: {time_without_pca:.2f} seconds\")\n",
        "\n",
        "# Applying PCA\n",
        "print(\"\\nApplying PCA...\")\n",
        "pca = PCA(n_components=0.95)\n",
        "X_train_pca = pca.fit_transform(X_train_scaled)\n",
        "X_test_pca = pca.transform(X_test_scaled)\n",
        "\n",
        "print(f\"Number of components after PCA: {pca.n_components_}\")\n",
        "\n",
        "# Logistic Regression with PCA\n",
        "print(\"\\nPerforming Logistic Regression with PCA...\")\n",
        "start_time = time.time()\n",
        "logisticRegr_pca = LogisticRegression(solver='lbfgs', max_iter=100)\n",
        "logisticRegr_pca.fit(X_train_pca, y_train)\n",
        "y_pred_pca = logisticRegr_pca.predict(X_test_pca)\n",
        "accuracy_with_pca = accuracy_score(y_test, y_pred_pca)\n",
        "time_with_pca = time.time() - start_time\n",
        "\n",
        "print(f\"Accuracy with PCA: {accuracy_with_pca:.4f}\")\n",
        "print(f\"Time with PCA: {time_with_pca:.2f} seconds\")\n",
        "\n",
        "# Comparing results\n",
        "print(\"\\nComparison:\")\n",
        "print(f\"Accuracy improvement: {(accuracy_with_pca - accuracy_without_pca) * 100:.2f}%\")\n",
        "print(f\"Time improvement: {(time_without_pca - time_with_pca) / time_without_pca * 100:.2f}%\")\n"
      ]
    }
  ]
}