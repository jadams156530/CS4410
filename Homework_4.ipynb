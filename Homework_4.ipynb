{
  "nbformat": 4,
  "nbformat_minor": 0,
  "metadata": {
    "colab": {
      "provenance": [],
      "authorship_tag": "ABX9TyPMaO7z2ni1nkx9eLQtyTUr",
      "include_colab_link": true
    },
    "kernelspec": {
      "name": "python3",
      "display_name": "Python 3"
    },
    "language_info": {
      "name": "python"
    }
  },
  "cells": [
    {
      "cell_type": "markdown",
      "metadata": {
        "id": "view-in-github",
        "colab_type": "text"
      },
      "source": [
        "<a href=\"https://colab.research.google.com/github/jadams156530/CS4410/blob/main/Homework_4.ipynb\" target=\"_parent\"><img src=\"https://colab.research.google.com/assets/colab-badge.svg\" alt=\"Open In Colab\"/></a>"
      ]
    },
    {
      "cell_type": "code",
      "execution_count": null,
      "metadata": {
        "colab": {
          "base_uri": "https://localhost:8080/",
          "height": 1000
        },
        "id": "SiZguFm6IXh5",
        "outputId": "f778285a-5d14-4f24-c8a0-3b2f00bd8809"
      },
      "outputs": [
        {
          "output_type": "stream",
          "name": "stdout",
          "text": [
            "Sample size:\n",
            " 569\n",
            "Feature size:\n",
            " 30\n",
            "Target size:\n",
            " 569\n",
            "Training set size:\n",
            " 455\n",
            "Testing set size:\n",
            " 114\n",
            "Model score:\n",
            " 0.9736842105263158\n",
            "Confusion Matrix:\n",
            " [[40  3]\n",
            " [ 0 71]]\n",
            "Classification Report:\n",
            "               precision    recall  f1-score   support\n",
            "\n",
            "           0       1.00      0.93      0.96        43\n",
            "           1       0.96      1.00      0.98        71\n",
            "\n",
            "    accuracy                           0.97       114\n",
            "   macro avg       0.98      0.97      0.97       114\n",
            "weighted avg       0.97      0.97      0.97       114\n",
            "\n"
          ]
        },
        {
          "output_type": "display_data",
          "data": {
            "text/plain": [
              "<Figure size 800x600 with 2 Axes>"
            ],
            "image/png": "[encoded data removed]"
          },
          "metadata": {}
        },
        {
          "output_type": "stream",
          "name": "stdout",
          "text": [
            "Cross-Validation Scores:\n",
            " [0.96491228 0.9122807  0.94736842 0.89473684 0.96491228 0.94736842\n",
            " 0.96491228 0.89473684 0.96491228 0.92857143]\n",
            "Mean Cross-Validation Score:\n",
            " 0.9384711779448622\n",
            "GaussianNB model score:\n",
            " 0.9736842105263158\n",
            "KNeighborsClassifier model score:\n",
            " 0.956140350877193\n",
            "LogisticRegression model score:\n",
            " 0.956140350877193\n",
            "SVC model score:\n",
            " 0.9473684210526315\n"
          ]
        }
      ],
      "source": [
        "from sklearn.datasets import load_breast_cancer\n",
        "from sklearn.model_selection import train_test_split, KFold, cross_val_score\n",
        "from sklearn.naive_bayes import GaussianNB\n",
        "from sklearn.neighbors import KNeighborsClassifier\n",
        "from sklearn.linear_model import LogisticRegression\n",
        "from sklearn.svm import SVC\n",
        "from sklearn.metrics import confusion_matrix, classification_report\n",
        "import matplotlib.pyplot as plt\n",
        "import seaborn as sns\n",
        "\n",
        "# Loading the Dataset\n",
        "breast_cancer = load_breast_cancer()\n",
        "X = breast_cancer.data\n",
        "y = breast_cancer.target\n",
        "\n",
        "# Checking Sample and Target Sizes\n",
        "print(\"Sample size:\\n\", X.shape[0])\n",
        "print(\"Feature size:\\n\", X.shape[1])\n",
        "print(\"Target size:\\n\", y.shape[0])\n",
        "\n",
        "# Splitting the Data for Training and Testing\n",
        "X_train, X_test, y_train, y_test = train_test_split(X, y, test_size=0.2, random_state=42)\n",
        "\n",
        "# Training and Testing Set Sizes\n",
        "print(\"Training set size:\\n\", X_train.shape[0])\n",
        "print(\"Testing set size:\\n\", X_test.shape[0])\n",
        "\n",
        "# Creating the Model\n",
        "nb = GaussianNB()\n",
        "\n",
        "# Training the Model\n",
        "nb.fit(X_train, y_train)\n",
        "\n",
        "# Prediction\n",
        "y_pred = nb.predict(X_test)\n",
        "\n",
        "# Estimator Method Score\n",
        "print(\"Model score:\\n\", nb.score(X_test, y_test))\n",
        "\n",
        "# Confusion Matrix and Classification Report\n",
        "cm = confusion_matrix(y_test, y_pred)\n",
        "print(\"Confusion Matrix:\\n\", cm)\n",
        "print(\"Classification Report:\\n\", classification_report(y_test, y_pred))\n",
        "\n",
        "# Visualizing the Confusion Matrix\n",
        "plt.figure(figsize=(8, 6))\n",
        "sns.heatmap(cm, annot=True, fmt='d', cmap='Blues')\n",
        "plt.title('Confusion Matrix')\n",
        "plt.xlabel('Predicted')\n",
        "plt.ylabel('True')\n",
        "plt.show()\n",
        "\n",
        "# K-Fold Cross-Validation\n",
        "kfold = KFold(n_splits=10, random_state=11, shuffle=True)\n",
        "scores = cross_val_score(estimator=nb, X=X, y=y, cv=kfold)\n",
        "print(\"Cross-Validation Scores:\\n\", scores)\n",
        "print(\"Mean Cross-Validation Score:\\n\", scores.mean())\n",
        "\n",
        "# Running Multiple Models\n",
        "estimators = {\n",
        "    'GaussianNB': nb,\n",
        "    'KNeighborsClassifier': KNeighborsClassifier(),\n",
        "    'LogisticRegression': LogisticRegression(solver='lbfgs', multi_class='ovr', max_iter=10000),\n",
        "    'SVC': SVC(gamma='scale')\n",
        "}\n",
        "\n",
        "for name, model in estimators.items():\n",
        "    model.fit(X_train, y_train)\n",
        "    score = model.score(X_test, y_test)\n",
        "    print(f\"{name} model score:\\n {score}\")"
      ]
    }
  ]
}